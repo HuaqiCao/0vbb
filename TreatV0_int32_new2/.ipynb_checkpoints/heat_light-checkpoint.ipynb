{
 "cells": [
  {
   "cell_type": "code",
   "execution_count": 1,
   "id": "ff2a5f07-3e9b-4af5-9978-5b4a5bb8a9eb",
   "metadata": {},
   "outputs": [],
   "source": [
    "%jsroot\n",
    "// 打开 heat.root 文件\n",
    "// TFile *heatFile = TFile::Open(\"/mnt/d/storage/research/RUN2408_data_ana/SB12_T6at9p46mK_bkg_4h40min_5kHz_2408200106/heat.root\");\n",
    "// TFile *heatFile = TFile::Open(\"/mnt/d/storage/research/RUN2408_data_ana/SB12_T6at9p46mK_bkg_4h40min_5kHz_2408200106/light.root\");\n",
    "TFile *heatFile = TFile::Open(\"/mnt/d/storage/research/RUN2408_data_ana/SB13_T6at8p5mK_bkg_9h20min_5kHz_2408232128/heat.root\");\n",
    "TTree *heatTree = (TTree*)heatFile->Get(\"tree1\"); \n",
    "\n",
    "// 打开 light.root 文件\n",
    "// TFile *lightFile = TFile::Open(\"/mnt/d/storage/research/RUN2408_data_ana/SB12_T6at9p46mK_bkg_4h40min_5kHz_2408200106/light.root\");\n",
    "// TFile *lightFile = TFile::Open(\"/mnt/d/storage/research/RUN2408_data_ana/SB12_T6at9p46mK_bkg_4h40min_5kHz_2408200106/heat.root\");\n",
    "TFile *lightFile = TFile::Open(\"/mnt/d/storage/research/RUN2408_data_ana/SB13_T6at8p5mK_bkg_9h20min_5kHz_2408232128/light.root\");\n",
    "TTree *lightTree = (TTree*)lightFile->Get(\"tree1\"); \n",
    "\n",
    "// 定义变量存储 MaxPos 信息\n",
    "Long64_t heatMaxPos, lightMaxPos;\n",
    "\n",
    "// 设置分支地址\n",
    "heatTree->SetBranchAddress(\"trigpos\", &heatMaxPos);\n",
    "lightTree->SetBranchAddress(\"trigpos\", &lightMaxPos);\n",
    "\n",
    "// // 创建用于存储 light 信号分布的直方图\n",
    "// // TH1F *hLightDistribution = new TH1F(\"hLightDistribution\", \"Light Events around Heat Signal\", 100, -50, 50);  // 100 bins, x范围为-50到50\n",
    "// TH1F *hLightDistribution = new TH1F(\"hLightDistribution\", \"Light Events around Heat Signal\", 150, -50, 100);  // 150 bins, x范围为-50到100\n",
    "\n",
    "// 提取 heat 和 light 事件的 MaxPos 信息到向量\n",
    "std::vector<Long64_t> heatMaxPosList, lightMaxPosList;\n",
    "\n",
    "Long64_t nHeatEntries = heatTree->GetEntries();\n",
    "Long64_t nLightEntries = lightTree->GetEntries();\n",
    "\n",
    "// 提取 heat 文件中的 MaxPos 列表\n",
    "for (Long64_t i = 0; i < nHeatEntries; ++i) {\n",
    "    heatTree->GetEntry(i);\n",
    "    heatMaxPosList.push_back(heatMaxPos);\n",
    "}\n",
    "\n",
    "// 提取 light 文件中的 MaxPos 列表\n",
    "for (Long64_t i = 0; i < nLightEntries; ++i) {\n",
    "    lightTree->GetEntry(i);\n",
    "    lightMaxPosList.push_back(lightMaxPos);\n",
    "}\n",
    "\n",
    "int fillCount = 0; // 记录填充次数"
   ]
  },
  {
   "cell_type": "code",
   "execution_count": 2,
   "id": "a82e050d-e766-497d-9f7d-6f2808f576ff",
   "metadata": {},
   "outputs": [
    {
     "data": {
      "text/html": [
       "\n",
       "\n",
       "<div id=\"root_plot_1725978363866\"\n",
       "     style=\"width: 796px; height: 572px\">\n",
       "</div>\n",
       "<script>\n",
       "\n",
       "function display_root_plot_1725978363866(Core) {\n",
       "   let obj = Core.parse({\"_typename\":\"TCanvas\",\"fUniqueID\":0,\"fBits\":3342344,\"fLineColor\":1,\"fLineStyle\":1,\"fLineWidth\":1,\"fFillColor\":0,\"fFillStyle\":1001,\"fLeftMargin\":0.1,\"fRightMargin\":0.1,\"fBottomMargin\":0.1,\"fTopMargin\":0.1,\"fXfile\":2,\"fYfile\":2,\"fAfile\":1,\"fXstat\":0.99,\"fYstat\":0.99,\"fAstat\":2,\"fFrameFillColor\":0,\"fFrameLineColor\":1,\"fFrameFillStyle\":1001,\"fFrameLineStyle\":1,\"fFrameLineWidth\":1,\"fFrameBorderSize\":1,\"fFrameBorderMode\":0,\"fX1\":4.99999962747095,\"fY1\":9.97499917857344,\"fX2\":55.0000003725291,\"fY2\":120.225000821427,\"fXtoAbsPixelk\":-79.5999428832051,\"fXtoPixelk\":-79.5999428832051,\"fXtoPixel\":15.9199997627735,\"fYtoAbsPixelk\":623.752425919478,\"fYtoPixelk\":623.752425919478,\"fYtoPixel\":-5.18820853946971,\"fUtoAbsPixelk\":5e-5,\"fUtoPixelk\":5e-5,\"fUtoPixel\":796,\"fVtoAbsPixelk\":572.00005,\"fVtoPixelk\":572,\"fVtoPixel\":-572,\"fAbsPixeltoXk\":4.99999962747095,\"fPixeltoXk\":4.99999962747095,\"fPixeltoX\":0.0628140712877614,\"fAbsPixeltoYk\":120.225000821427,\"fPixeltoYk\":9.97499917857344,\"fPixeltoY\":-0.192744758116876,\"fXlowNDC\":0,\"fYlowNDC\":0,\"fXUpNDC\":1,\"fYUpNDC\":1,\"fWNDC\":1,\"fHNDC\":1,\"fAbsXlowNDC\":0,\"fAbsYlowNDC\":0,\"fAbsWNDC\":1,\"fAbsHNDC\":1,\"fUxmin\":10,\"fUymin\":21,\"fUxmax\":50,\"fUymax\":109.2,\"fTheta\":30,\"fPhi\":30,\"fAspectRatio\":0,\"fNumber\":0,\"fTickx\":0,\"fTicky\":0,\"fLogx\":0,\"fLogy\":0,\"fLogz\":0,\"fPadPaint\":0,\"fCrosshair\":0,\"fCrosshairPos\":0,\"fBorderSize\":2,\"fBorderMode\":0,\"fModified\":true,\"fGridx\":false,\"fGridy\":false,\"fAbsCoord\":false,\"fEditable\":true,\"fFixedAspectRatio\":false,\"fPrimitives\":{\"_typename\":\"TList\",\"name\":\"TList\",\"arr\":[{\"_typename\":\"TFrame\",\"fUniqueID\":0,\"fBits\":8,\"fLineColor\":1,\"fLineStyle\":1,\"fLineWidth\":1,\"fFillColor\":0,\"fFillStyle\":1001,\"fX1\":10,\"fY1\":21,\"fX2\":50,\"fY2\":109.2,\"fBorderSize\":1,\"fBorderMode\":0},{\"_typename\":\"TF1\",\"fUniqueID\":0,\"fBits\":8,\"fName\":\"gausFit\",\"fTitle\":\"gaus\",\"fLineColor\":2,\"fLineStyle\":1,\"fLineWidth\":2,\"fFillColor\":19,\"fFillStyle\":0,\"fMarkerColor\":1,\"fMarkerStyle\":1,\"fMarkerSize\":1,\"fXmin\":20,\"fXmax\":40,\"fNpar\":3,\"fNdim\":1,\"fNpx\":100,\"fType\":0,\"fNpfits\":20,\"fNDF\":17,\"fChisquare\":46.4966489752211,\"fMinimum\":-1111,\"fMaximum\":-1111,\"fParErrors\":[3.38992599942884,0.290823606605751,0.436084068226684],\"fParMin\":[0,0,0],\"fParMax\":[0,0,50.6272049915846],\"fSave\":[],\"fNormalized\":false,\"fNormIntegral\":0,\"fFormula\":{\"_typename\":\"TFormula\",\"fUniqueID\":0,\"fBits\":1024,\"fName\":\"gausFit\",\"fTitle\":\"gaus\",\"fClingParameters\":[80.0275570931748,30.5549207553821,7.123856137511],\"fAllParametersSetted\":true,\"fParams\":[{\"$pair\":\"pair<TString,int,TFormulaParamOrder>\",\"first\":\"Constant\",\"second\":0},{\"$pair\":\"pair<TString,int,TFormulaParamOrder>\",\"first\":\"Mean\",\"second\":1},{\"$pair\":\"pair<TString,int,TFormulaParamOrder>\",\"first\":\"Sigma\",\"second\":2}],\"fFormula\":\"[Constant]*exp(-0.5*((x-[Mean])\\/[Sigma])*((x-[Mean])\\/[Sigma]))\",\"fNdim\":1,\"fLinearParts\":[],\"fVectorized\":false},\"fParams\":null,\"fComposition\":null},{\"_typename\":\"TPaveText\",\"fUniqueID\":0,\"fBits\":9,\"fLineColor\":1,\"fLineStyle\":1,\"fLineWidth\":1,\"fFillColor\":0,\"fFillStyle\":0,\"fX1\":15.5238691310225,\"fY1\":112.966233756458,\"fX2\":44.4761308689775,\"fY2\":119.673751338925,\"fX1NDC\":0.210477386934673,\"fY1NDC\":0.934160843929211,\"fX2NDC\":0.789522613065327,\"fY2NDC\":0.995000004768372,\"fBorderSize\":0,\"fInit\":1,\"fShadowColor\":1,\"fCornerRadius\":0,\"fOption\":\"blNDC\",\"fName\":\"title\",\"fTextAngle\":0,\"fTextSize\":0,\"fTextAlign\":22,\"fTextColor\":1,\"fTextFont\":42,\"fLabel\":\"\",\"fLongest\":31,\"fMargin\":0.05,\"fLines\":{\"_typename\":\"TList\",\"name\":\"TList\",\"arr\":[{\"_typename\":\"TLatex\",\"fUniqueID\":0,\"fBits\":0,\"fName\":\"\",\"fTitle\":\"Light Events around Heat Signal\",\"fTextAngle\":0,\"fTextSize\":0,\"fTextAlign\":0,\"fTextColor\":0,\"fTextFont\":0,\"fX\":0,\"fY\":0,\"fLineColor\":1,\"fLineStyle\":1,\"fLineWidth\":2,\"fLimitFactorSize\":3,\"fOriginSize\":0.0517132878303528}],\"opt\":[\"\"]}},{\"_typename\":\"TStyle\",\"fUniqueID\":0,\"fBits\":0,\"fName\":\"Modern\",\"fTitle\":\"Modern Style\",\"fLineColor\":1,\"fLineStyle\":1,\"fLineWidth\":1,\"fFillColor\":19,\"fFillStyle\":1001,\"fMarkerColor\":1,\"fMarkerStyle\":1,\"fMarkerSize\":1,\"fTextAngle\":0,\"fTextSize\":0.05,\"fTextAlign\":11,\"fTextColor\":1,\"fTextFont\":62,\"fXaxis\":{\"_typename\":\"TAttAxis\",\"fNdivisions\":510,\"fAxisColor\":1,\"fLabelColor\":1,\"fLabelFont\":42,\"fLabelOffset\":0.005,\"fLabelSize\":0.035,\"fTickLength\":0.03,\"fTitleOffset\":1,\"fTitleSize\":0.035,\"fTitleColor\":1,\"fTitleFont\":42},\"fYaxis\":{\"_typename\":\"TAttAxis\",\"fNdivisions\":510,\"fAxisColor\":1,\"fLabelColor\":1,\"fLabelFont\":42,\"fLabelOffset\":0.005,\"fLabelSize\":0.035,\"fTickLength\":0.03,\"fTitleOffset\":0,\"fTitleSize\":0.035,\"fTitleColor\":1,\"fTitleFont\":42},\"fZaxis\":{\"_typename\":\"TAttAxis\",\"fNdivisions\":510,\"fAxisColor\":1,\"fLabelColor\":1,\"fLabelFont\":42,\"fLabelOffset\":0.005,\"fLabelSize\":0.035,\"fTickLength\":0.03,\"fTitleOffset\":1,\"fTitleSize\":0.035,\"fTitleColor\":1,\"fTitleFont\":42},\"fBarWidth\":1,\"fBarOffset\":0,\"fColorModelPS\":0,\"fDrawBorder\":0,\"fOptLogx\":0,\"fOptLogy\":0,\"fOptLogz\":0,\"fOptDate\":0,\"fOptStat\":1111,\"fOptTitle\":1,\"fOptFile\":0,\"fOptFit\":0,\"fShowEventStatus\":0,\"fShowEditor\":0,\"fShowToolBar\":0,\"fNumberContours\":20,\"fAttDate\":{\"_typename\":\"TAttText\",\"fTextAngle\":0,\"fTextSize\":0.025,\"fTextAlign\":11,\"fTextColor\":1,\"fTextFont\":62},\"fDateX\":0.01,\"fDateY\":0.01,\"fEndErrorSize\":2,\"fErrorX\":0.5,\"fFuncColor\":2,\"fFuncStyle\":1,\"fFuncWidth\":2,\"fGridColor\":0,\"fGridStyle\":3,\"fGridWidth\":1,\"fLegendBorderSize\":1,\"fLegendFillColor\":0,\"fLegendFont\":42,\"fLegendTextSize\":0,\"fHatchesLineWidth\":1,\"fHatchesSpacing\":1,\"fFrameFillColor\":0,\"fFrameLineColor\":1,\"fFrameFillStyle\":1001,\"fFrameLineStyle\":1,\"fFrameLineWidth\":1,\"fFrameBorderSize\":1,\"fFrameBorderMode\":0,\"fHistFillColor\":0,\"fHistLineColor\":602,\"fHistFillStyle\":1001,\"fHistLineStyle\":1,\"fHistLineWidth\":1,\"fHistMinimumZero\":false,\"fHistTopMargin\":0.05,\"fCanvasPreferGL\":false,\"fCanvasColor\":0,\"fCanvasBorderSize\":2,\"fCanvasBorderMode\":0,\"fCanvasDefH\":500,\"fCanvasDefW\":700,\"fCanvasDefX\":10,\"fCanvasDefY\":10,\"fPadColor\":0,\"fPadBorderSize\":2,\"fPadBorderMode\":0,\"fPadBottomMargin\":0.1,\"fPadTopMargin\":0.1,\"fPadLeftMargin\":0.1,\"fPadRightMargin\":0.1,\"fPadGridX\":false,\"fPadGridY\":false,\"fPadTickX\":0,\"fPadTickY\":0,\"fPaperSizeX\":20,\"fPaperSizeY\":26,\"fScreenFactor\":1,\"fStatColor\":0,\"fStatTextColor\":1,\"fStatBorderSize\":1,\"fStatFont\":42,\"fStatFontSize\":0,\"fStatStyle\":1001,\"fStatFormat\":\"6.4g\",\"fStatX\":0.98,\"fStatY\":0.935,\"fStatW\":0.2,\"fStatH\":0.16,\"fStripDecimals\":true,\"fTitleAlign\":23,\"fTitleColor\":0,\"fTitleTextColor\":1,\"fTitleBorderSize\":0,\"fTitleFont\":42,\"fTitleFontSize\":0.05,\"fTitleStyle\":0,\"fTitleX\":0.5,\"fTitleY\":0.995,\"fTitleW\":0,\"fTitleH\":0,\"fLegoInnerR\":0.5,\"fLineStyle\":[\"\",\"  \",\" 12 12\",\" 4 8\",\" 12 16 4 16\",\" 20 12 4 12\",\" 20 12 4 12 4 12 4 12\",\" 20 20\",\" 20 12 4 12 4 12\",\" 80 20\",\" 80 40 4 40\",\"  \",\"  \",\"  \",\"  \",\"  \",\"  \",\"  \",\"  \",\"  \",\"  \",\"  \",\"  \",\"  \",\"  \",\"  \",\"  \",\"  \",\"  \",\"  \"],\"fHeaderPS\":\"\",\"fTitlePS\":\"\",\"fFitFormat\":\"5.4g\",\"fPaintTextFormat\":\"g\",\"fLineScalePS\":3,\"fJoinLinePS\":0,\"fCapLinePS\":0,\"fTimeOffset\":788918400,\"fImageScaling\":1}],\"opt\":[\"\",\"same\",\"blNDC\",\"\"]},\"fExecs\":null,\"fName\":\"canvas\",\"fTitle\":\"Light Events Distribution\",\"fNumPaletteColor\":0,\"fNextPaletteColor\":0,\"fDISPLAY\":\"$DISPLAY\",\"fDoubleBuffer\":0,\"fRetained\":true,\"fXsizeUser\":0,\"fYsizeUser\":0,\"fXsizeReal\":20,\"fYsizeReal\":15,\"fWindowTopX\":0,\"fWindowTopY\":0,\"fWindowWidth\":0,\"fWindowHeight\":0,\"fCw\":796,\"fCh\":572,\"fCatt\":{\"_typename\":\"TAttCanvas\",\"fXBetween\":2,\"fYBetween\":2,\"fTitleFromTop\":1.2,\"fXdate\":0.2,\"fYdate\":0.3,\"fAdate\":1},\"kMoveOpaque\":true,\"kResizeOpaque\":true,\"fHighLightColor\":2,\"fBatch\":true,\"kShowEventStatus\":false,\"kAutoExec\":true,\"kMenuBar\":true});\n",
       "   Core.settings.HandleKeys = false;\n",
       "   Core.draw(\"root_plot_1725978363866\", obj, \"\");\n",
       "}\n",
       "\n",
       "function script_load_root_plot_1725978363866(src, on_error) {\n",
       "    let script = document.createElement('script');\n",
       "    script.src = src;\n",
       "    script.onload = function() { display_root_plot_1725978363866(JSROOT); };\n",
       "    script.onerror = function() { script.remove(); on_error(); };\n",
       "    document.head.appendChild(script);\n",
       "}\n",
       "\n",
       "if (typeof requirejs !== 'undefined') {\n",
       "\n",
       "    // We are in jupyter notebooks, use require.js which should be configured already\n",
       "    requirejs.config({\n",
       "       paths: { 'JSRootCore' : [ 'scripts/JSRoot.core', 'https://root.cern/js/6.1.1/scripts/JSRoot.core.min', 'https://jsroot.gsi.de/6.1.1/scripts/JSRoot.core.min' ] }\n",
       "    })(['JSRootCore'],  function(Core) {\n",
       "       display_root_plot_1725978363866(Core);\n",
       "    });\n",
       "\n",
       "} else if (typeof JSROOT !== 'undefined') {\n",
       "\n",
       "   // JSROOT already loaded, just use it\n",
       "   display_root_plot_1725978363866(JSROOT);\n",
       "\n",
       "} else {\n",
       "\n",
       "    // We are in jupyterlab without require.js, directly loading jsroot\n",
       "    // Jupyterlab might be installed in a different base_url so we need to know it.\n",
       "    try {\n",
       "        var base_url = JSON.parse(document.getElementById('jupyter-config-data').innerHTML).baseUrl;\n",
       "    } catch(_) {\n",
       "        var base_url = '/';\n",
       "    }\n",
       "\n",
       "    // Try loading a local version of requirejs and fallback to cdn if not possible.\n",
       "    script_load_root_plot_1725978363866(base_url + 'static/scripts/JSRoot.core.js', function(){\n",
       "        console.error('Fail to load JSROOT locally, please check your jupyter_notebook_config.py file');\n",
       "        script_load_root_plot_1725978363866('https://root.cern/js/6.1.1/scripts/JSRoot.core.min.js', function(){\n",
       "            document.getElementById(\"root_plot_1725978363866\").innerHTML = \"Failed to load JSROOT\";\n",
       "        });\n",
       "    });\n",
       "}\n",
       "\n",
       "</script>\n"
      ],
      "text/plain": [
       "<IPython.core.display.HTML object>"
      ]
     },
     "metadata": {},
     "output_type": "display_data"
    },
    {
     "name": "stdout",
     "output_type": "stream",
     "text": [
      "Number of filled bins: 6058\n",
      " FCN=46.4966 FROM MIGRAD    STATUS=CONVERGED      69 CALLS          70 TOTAL\n",
      "                     EDM=7.66598e-09    STRATEGY= 1  ERROR MATRIX UNCERTAINTY   3.1 per cent\n",
      "  EXT PARAMETER                                   STEP         FIRST   \n",
      "  NO.   NAME      VALUE            ERROR          SIZE      DERIVATIVE \n",
      "   1  Constant     8.00276e+01   3.38993e+00   5.93318e-03  -1.27838e-05\n",
      "   2  Mean         3.05549e+01   2.90824e-01   2.33525e-04  -7.16265e-05\n",
      "   3  Sigma        7.12386e+00   4.36084e-01  -3.81130e-05   5.27569e-03\n"
     ]
    },
    {
     "name": "stderr",
     "output_type": "stream",
     "text": [
      "Info in <TCanvas::MakeDefCanvas>:  created default TCanvas with name c1\n"
     ]
    }
   ],
   "source": [
    "// 创建用于存储 light 信号分布的直方图\n",
    "// TH1F *hLightDistribution = new TH1F(\"hLightDistribution\", \"Light Events around Heat Signal\", 100, -50, 50);  // 100 bins, x范围为-50到50\n",
    "TH1F *hLightDistribution = new TH1F(\"hLightDistribution\", \"Light Events around Heat Signal\", 40, 10, 50);  // 150 bins, x范围为-50到100\n",
    "// 遍历每个 heat 事件，查找对应的 light 事件\n",
    "for (size_t i = 0; i < heatMaxPosList.size(); ++i) {\n",
    "    Long64_t currentHeatMaxPos = heatMaxPosList[i];\n",
    "\n",
    "    // 对每个 heat 事件，查找附近 (±50) 的 light 事件\n",
    "    for (size_t j = 0; j < lightMaxPosList.size(); ++j) {\n",
    "        Long64_t currentLightMaxPos = lightMaxPosList[j];\n",
    "        Long64_t delta = currentLightMaxPos - currentHeatMaxPos;\n",
    "\n",
    "        // 如果 light 事件在 heat 事件的±50范围内\n",
    "        // if (delta >= -50 && delta <= 50) {\n",
    "        if (delta >= -50 && delta <= 100) {\n",
    "            hLightDistribution->Fill(delta);  // 将光信号的时间差填入直方图\n",
    "            fillCount++; // 计数\n",
    "        }\n",
    "    }\n",
    "}\n",
    "\n",
    "std::cout << \"Number of filled bins: \" << fillCount << std::endl;\n",
    "\n",
    "// 定义高斯函数并指定拟合范围为20到40\n",
    "TF1 *gausFit = new TF1(\"gausFit\", \"gaus\", 20, 40);\n",
    "\n",
    "// 对直方图进行高斯拟合\n",
    "hLightDistribution->Fit(gausFit, \"R\");  // \"R\" 表示在指定范围内拟合\n",
    "\n",
    "// 绘制 light 分布的直方图\n",
    "TCanvas *canvas = new TCanvas(\"canvas\", \"Light Events Distribution\", 800, 600);\n",
    "hLightDistribution->GetXaxis()->SetTitle(\"Time difference (Light MaxPos - Heat MaxPos)\");\n",
    "hLightDistribution->GetYaxis()->SetTitle(\"Counts\");\n",
    "canvas->cd();\n",
    "hLightDistribution->Draw();\n",
    "gausFit->Draw(\"same\");  // 绘制高斯拟合结果\n",
    "// canvas->Draw();\n",
    "// 保存图像（可选）\n",
    "canvas->SaveAs(\"Light_Distribution.png\");\n",
    "// 关闭文件\n",
    "heatFile->Close();\n",
    "lightFile->Close();"
   ]
  },
  {
   "cell_type": "code",
   "execution_count": 3,
   "id": "da12119d-f520-4934-b1f5-ba9309e32ca1",
   "metadata": {},
   "outputs": [
    {
     "name": "stdout",
     "output_type": "stream",
     "text": [
      "Number of filled bins: 5222\n",
      " FCN=25.8611 FROM MIGRAD    STATUS=CONVERGED      81 CALLS          82 TOTAL\n",
      "                     EDM=1.21738e-10    STRATEGY= 1      ERROR MATRIX ACCURATE \n",
      "  EXT PARAMETER                                   STEP         FIRST   \n",
      "  NO.   NAME      VALUE            ERROR          SIZE      DERIVATIVE \n",
      "   1  Constant     3.06918e+01   2.14757e+00   3.66478e-03   4.59078e-06\n",
      "   2  Mean        -3.05607e+01   4.45660e-01   1.11206e-03   3.28753e-05\n",
      "   3  Sigma        6.81385e+00   6.61585e-01   6.41103e-05   2.56055e-04\n"
     ]
    },
    {
     "name": "stderr",
     "output_type": "stream",
     "text": [
      "Warning in <TCanvas::Constructor>: Deleting canvas with same name: canvas\n",
      "Info in <TCanvas::Print>: png file Heat_Distribution.png has been created\n"
     ]
    }
   ],
   "source": [
    "// 创建用于存储 light 信号分布的直方图\n",
    "// TH1F *hLightDistribution = new TH1F(\"hLightDistribution\", \"Light Events around Heat Signal\", 100, -50, 50);  // 100 bins, x范围为-50到50\n",
    "TH1F *hLightDistribution = new TH1F(\"hLightDistribution\", \"Light Events around Heat Signal\", 150, -100, 50);  // 150 bins, x范围为-50到100\n",
    "// 遍历每个 heat 事件，查找对应的 light 事件\n",
    "for (size_t i = 0; i < heatMaxPosList.size(); ++i) {\n",
    "    Long64_t currentHeatMaxPos = heatMaxPosList[i];\n",
    "\n",
    "    // 对每个 heat 事件，查找附近 (±50) 的 light 事件\n",
    "    for (size_t j = 0; j < lightMaxPosList.size(); ++j) {\n",
    "        Long64_t currentLightMaxPos = lightMaxPosList[j];\n",
    "        Long64_t delta = currentLightMaxPos - currentHeatMaxPos;\n",
    "\n",
    "        // 如果 light 事件在 heat 事件的±50范围内\n",
    "        // if (delta >= -50 && delta <= 50) {\n",
    "        if (delta >= -100 && delta <= 50) {\n",
    "            hLightDistribution->Fill(delta);  // 将光信号的时间差填入直方图\n",
    "            fillCount++; // 计数\n",
    "        }\n",
    "    }\n",
    "}\n",
    "\n",
    "std::cout << \"Number of filled bins: \" << fillCount << std::endl;\n",
    "\n",
    "// 定义高斯函数并指定拟合范围为20到40\n",
    "TF1 *gausFit = new TF1(\"gausFit\", \"gaus\", -40, -20);\n",
    "\n",
    "// 对直方图进行高斯拟合\n",
    "hLightDistribution->Fit(gausFit, \"R\");  // \"R\" 表示在指定范围内拟合\n",
    "\n",
    "// 绘制 light 分布的直方图\n",
    "TCanvas *canvas = new TCanvas(\"canvas\", \"Heat Events Distribution\", 800, 600);\n",
    "hLightDistribution->GetXaxis()->SetTitle(\"Time difference (Heat MaxPos - Light MaxPos)\");\n",
    "hLightDistribution->GetYaxis()->SetTitle(\"Counts/points\");\n",
    "canvas->cd();\n",
    "hLightDistribution->Draw();\n",
    "gausFit->Draw(\"same\");  // 绘制高斯拟合结果\n",
    "\n",
    "// 保存图像（可选）\n",
    "canvas->SaveAs(\"Heat_Distribution.png\");\n",
    "// 关闭文件\n",
    "heatFile->Close();\n",
    "lightFile->Close();"
   ]
  },
  {
   "cell_type": "code",
   "execution_count": 3,
   "id": "8ef28d64-7c1d-4293-a7b2-02a346b87aa5",
   "metadata": {},
   "outputs": [
    {
     "name": "stderr",
     "output_type": "stream",
     "text": [
      "Info in <TCanvas::Print>: png file Light_Distribution2.png has been created\n"
     ]
    }
   ],
   "source": []
  },
  {
   "cell_type": "code",
   "execution_count": null,
   "id": "6c48c6b3-13dd-47be-a893-27d87bd21dee",
   "metadata": {},
   "outputs": [],
   "source": []
  }
 ],
 "metadata": {
  "kernelspec": {
   "display_name": "ROOT C++",
   "language": "c++",
   "name": "root"
  },
  "language_info": {
   "codemirror_mode": "text/x-c++src",
   "file_extension": ".C",
   "mimetype": " text/x-c++src",
   "name": "c++"
  }
 },
 "nbformat": 4,
 "nbformat_minor": 5
}
