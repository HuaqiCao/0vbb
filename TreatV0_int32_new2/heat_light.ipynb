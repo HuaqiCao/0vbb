{
 "cells": [
  {
   "cell_type": "code",
   "execution_count": 1,
   "id": "ff2a5f07-3e9b-4af5-9978-5b4a5bb8a9eb",
   "metadata": {},
   "outputs": [],
   "source": [
    "%jsroot\n",
    "// 打开 heat.root 文件\n",
    "// TFile *heatFile = TFile::Open(\"/mnt/d/storage/research/RUN2408_data_ana/SB12_T6at9p46mK_bkg_4h40min_5kHz_2408200106/heat.root\");\n",
    "// TFile *heatFile = TFile::Open(\"/mnt/d/storage/research/RUN2408_data_ana/SB12_T6at9p46mK_bkg_4h40min_5kHz_2408200106/light.root\");\n",
    "TFile *heatFile = TFile::Open(\"/mnt/d/storage/research/RUN2408_data_ana/SB13_T6at8p5mK_bkg_9h20min_5kHz_2408232128/heat.root\");\n",
    "TTree *heatTree = (TTree*)heatFile->Get(\"tree1\"); \n",
    "\n",
    "// 打开 light.root 文件\n",
    "// TFile *lightFile = TFile::Open(\"/mnt/d/storage/research/RUN2408_data_ana/SB12_T6at9p46mK_bkg_4h40min_5kHz_2408200106/light.root\");\n",
    "// TFile *lightFile = TFile::Open(\"/mnt/d/storage/research/RUN2408_data_ana/SB12_T6at9p46mK_bkg_4h40min_5kHz_2408200106/heat.root\");\n",
    "TFile *lightFile = TFile::Open(\"/mnt/d/storage/research/RUN2408_data_ana/SB13_T6at8p5mK_bkg_9h20min_5kHz_2408232128/light.root\");\n",
    "TTree *lightTree = (TTree*)lightFile->Get(\"tree1\"); \n",
    "\n",
    "// 定义变量存储 MaxPos 信息\n",
    "Long64_t heatMaxPos, lightMaxPos;\n",
    "\n",
    "// 设置分支地址\n",
    "heatTree->SetBranchAddress(\"trigpos\", &heatMaxPos);\n",
    "lightTree->SetBranchAddress(\"trigpos\", &lightMaxPos);\n",
    "\n",
    "// // 创建用于存储 light 信号分布的直方图\n",
    "// // TH1F *hLightDistribution = new TH1F(\"hLightDistribution\", \"Light Events around Heat Signal\", 100, -50, 50);  // 100 bins, x范围为-50到50\n",
    "// TH1F *hLightDistribution = new TH1F(\"hLightDistribution\", \"Light Events around Heat Signal\", 150, -50, 100);  // 150 bins, x范围为-50到100\n",
    "\n",
    "// 提取 heat 和 light 事件的 MaxPos 信息到向量\n",
    "std::vector<Long64_t> heatMaxPosList, lightMaxPosList;\n",
    "\n",
    "Long64_t nHeatEntries = heatTree->GetEntries();\n",
    "Long64_t nLightEntries = lightTree->GetEntries();\n",
    "\n",
    "// 提取 heat 文件中的 MaxPos 列表\n",
    "for (Long64_t i = 0; i < nHeatEntries; ++i) {\n",
    "    heatTree->GetEntry(i);\n",
    "    heatMaxPosList.push_back(heatMaxPos);\n",
    "}\n",
    "\n",
    "// 提取 light 文件中的 MaxPos 列表\n",
    "for (Long64_t i = 0; i < nLightEntries; ++i) {\n",
    "    lightTree->GetEntry(i);\n",
    "    lightMaxPosList.push_back(lightMaxPos);\n",
    "}\n",
    "\n",
    "int fillCount = 0; // 记录填充次数"
   ]
  },
  {
   "cell_type": "code",
   "execution_count": 2,
   "id": "a82e050d-e766-497d-9f7d-6f2808f576ff",
   "metadata": {},
   "outputs": [
    {
     "name": "stdout",
     "output_type": "stream",
     "text": [
      "Number of filled bins: 6058\n",
      " FCN=46.4966 FROM MIGRAD    STATUS=CONVERGED      69 CALLS          70 TOTAL\n",
      "                     EDM=7.66598e-09    STRATEGY= 1  ERROR MATRIX UNCERTAINTY   3.1 per cent\n",
      "  EXT PARAMETER                                   STEP         FIRST   \n",
      "  NO.   NAME      VALUE            ERROR          SIZE      DERIVATIVE \n",
      "   1  Constant     8.00276e+01   3.38993e+00   5.93318e-03  -1.27838e-05\n",
      "   2  Mean         3.05549e+01   2.90824e-01   2.33525e-04  -7.16265e-05\n",
      "   3  Sigma        7.12386e+00   4.36084e-01  -3.81130e-05   5.27569e-03\n"
     ]
    },
    {
     "name": "stderr",
     "output_type": "stream",
     "text": [
      "Info in <TCanvas::MakeDefCanvas>:  created default TCanvas with name c1\n",
      "Info in <TCanvas::Print>: png file Light_Distribution.png has been created\n"
     ]
    }
   ],
   "source": [
    "// 创建用于存储 light 信号分布的直方图\n",
    "// TH1F *hLightDistribution = new TH1F(\"hLightDistribution\", \"Light Events around Heat Signal\", 100, -50, 50);  // 100 bins, x范围为-50到50\n",
    "TH1F *hLightDistribution = new TH1F(\"hLightDistribution\", \"Light Events around Heat Signal\", 40, 10, 50);  // 150 bins, x范围为-50到100\n",
    "// 遍历每个 heat 事件，查找对应的 light 事件\n",
    "for (size_t i = 0; i < heatMaxPosList.size(); ++i) {\n",
    "    Long64_t currentHeatMaxPos = heatMaxPosList[i];\n",
    "\n",
    "    // 对每个 heat 事件，查找附近 (±50) 的 light 事件\n",
    "    for (size_t j = 0; j < lightMaxPosList.size(); ++j) {\n",
    "        Long64_t currentLightMaxPos = lightMaxPosList[j];\n",
    "        Long64_t delta = currentLightMaxPos - currentHeatMaxPos;\n",
    "\n",
    "        // 如果 light 事件在 heat 事件的±50范围内\n",
    "        // if (delta >= -50 && delta <= 50) {\n",
    "        if (delta >= -50 && delta <= 100) {\n",
    "            hLightDistribution->Fill(delta);  // 将光信号的时间差填入直方图\n",
    "            fillCount++; // 计数\n",
    "        }\n",
    "    }\n",
    "}\n",
    "\n",
    "std::cout << \"Number of filled bins: \" << fillCount << std::endl;\n",
    "\n",
    "// 定义高斯函数并指定拟合范围为20到40\n",
    "TF1 *gausFit = new TF1(\"gausFit\", \"gaus\", 20, 40);\n",
    "\n",
    "// 对直方图进行高斯拟合\n",
    "hLightDistribution->Fit(gausFit, \"R\");  // \"R\" 表示在指定范围内拟合\n",
    "\n",
    "// 绘制 light 分布的直方图\n",
    "TCanvas *canvas = new TCanvas(\"canvas\", \"Light Events Distribution\", 800, 600);\n",
    "hLightDistribution->GetXaxis()->SetTitle(\"Time difference (Light MaxPos - Heat MaxPos)\");\n",
    "hLightDistribution->GetYaxis()->SetTitle(\"Counts\");\n",
    "canvas->cd();\n",
    "hLightDistribution->Draw();\n",
    "gausFit->Draw(\"same\");  // 绘制高斯拟合结果\n",
    "// canvas->Draw();\n",
    "// 保存图像（可选）\n",
    "canvas->SaveAs(\"Light_Distribution.png\");\n",
    "// 关闭文件\n",
    "heatFile->Close();\n",
    "lightFile->Close();"
   ]
  },
  {
   "cell_type": "code",
   "execution_count": 3,
   "id": "da12119d-f520-4934-b1f5-ba9309e32ca1",
   "metadata": {},
   "outputs": [
    {
     "name": "stdout",
     "output_type": "stream",
     "text": [
      "Number of filled bins: 5222\n",
      " FCN=25.8611 FROM MIGRAD    STATUS=CONVERGED      81 CALLS          82 TOTAL\n",
      "                     EDM=1.21738e-10    STRATEGY= 1      ERROR MATRIX ACCURATE \n",
      "  EXT PARAMETER                                   STEP         FIRST   \n",
      "  NO.   NAME      VALUE            ERROR          SIZE      DERIVATIVE \n",
      "   1  Constant     3.06918e+01   2.14757e+00   3.66478e-03   4.59078e-06\n",
      "   2  Mean        -3.05607e+01   4.45660e-01   1.11206e-03   3.28753e-05\n",
      "   3  Sigma        6.81385e+00   6.61585e-01   6.41103e-05   2.56055e-04\n"
     ]
    },
    {
     "name": "stderr",
     "output_type": "stream",
     "text": [
      "Warning in <TCanvas::Constructor>: Deleting canvas with same name: canvas\n",
      "Info in <TCanvas::Print>: png file Heat_Distribution.png has been created\n"
     ]
    }
   ],
   "source": [
    "// 创建用于存储 light 信号分布的直方图\n",
    "// TH1F *hLightDistribution = new TH1F(\"hLightDistribution\", \"Light Events around Heat Signal\", 100, -50, 50);  // 100 bins, x范围为-50到50\n",
    "TH1F *hLightDistribution = new TH1F(\"hLightDistribution\", \"Light Events around Heat Signal\", 150, -100, 50);  // 150 bins, x范围为-50到100\n",
    "// 遍历每个 heat 事件，查找对应的 light 事件\n",
    "for (size_t i = 0; i < heatMaxPosList.size(); ++i) {\n",
    "    Long64_t currentHeatMaxPos = heatMaxPosList[i];\n",
    "\n",
    "    // 对每个 heat 事件，查找附近 (±50) 的 light 事件\n",
    "    for (size_t j = 0; j < lightMaxPosList.size(); ++j) {\n",
    "        Long64_t currentLightMaxPos = lightMaxPosList[j];\n",
    "        Long64_t delta = currentLightMaxPos - currentHeatMaxPos;\n",
    "\n",
    "        // 如果 light 事件在 heat 事件的±50范围内\n",
    "        // if (delta >= -50 && delta <= 50) {\n",
    "        if (delta >= -100 && delta <= 50) {\n",
    "            hLightDistribution->Fill(delta);  // 将光信号的时间差填入直方图\n",
    "            fillCount++; // 计数\n",
    "        }\n",
    "    }\n",
    "}\n",
    "\n",
    "std::cout << \"Number of filled bins: \" << fillCount << std::endl;\n",
    "\n",
    "// 定义高斯函数并指定拟合范围为20到40\n",
    "TF1 *gausFit = new TF1(\"gausFit\", \"gaus\", -40, -20);\n",
    "\n",
    "// 对直方图进行高斯拟合\n",
    "hLightDistribution->Fit(gausFit, \"R\");  // \"R\" 表示在指定范围内拟合\n",
    "\n",
    "// 绘制 light 分布的直方图\n",
    "TCanvas *canvas = new TCanvas(\"canvas\", \"Heat Events Distribution\", 800, 600);\n",
    "hLightDistribution->GetXaxis()->SetTitle(\"Time difference (Heat MaxPos - Light MaxPos)\");\n",
    "hLightDistribution->GetYaxis()->SetTitle(\"Counts/points\");\n",
    "canvas->cd();\n",
    "hLightDistribution->Draw();\n",
    "gausFit->Draw(\"same\");  // 绘制高斯拟合结果\n",
    "\n",
    "// 保存图像（可选）\n",
    "canvas->SaveAs(\"Heat_Distribution.png\");\n",
    "// 关闭文件\n",
    "heatFile->Close();\n",
    "lightFile->Close();"
   ]
  },
  {
   "cell_type": "code",
   "execution_count": 3,
   "id": "8ef28d64-7c1d-4293-a7b2-02a346b87aa5",
   "metadata": {},
   "outputs": [
    {
     "name": "stderr",
     "output_type": "stream",
     "text": [
      "Info in <TCanvas::Print>: png file Light_Distribution2.png has been created\n"
     ]
    }
   ],
   "source": []
  },
  {
   "cell_type": "code",
   "execution_count": null,
   "id": "6c48c6b3-13dd-47be-a893-27d87bd21dee",
   "metadata": {},
   "outputs": [],
   "source": []
  }
 ],
 "metadata": {
  "kernelspec": {
   "display_name": "ROOT C++",
   "language": "c++",
   "name": "root"
  },
  "language_info": {
   "codemirror_mode": "text/x-c++src",
   "file_extension": ".C",
   "mimetype": " text/x-c++src",
   "name": "c++"
  }
 },
 "nbformat": 4,
 "nbformat_minor": 5
}
